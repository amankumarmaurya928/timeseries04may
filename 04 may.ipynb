{
 "cells": [
  {
   "cell_type": "code",
   "execution_count": 2,
   "id": "049d909e-c5cc-4753-b70c-ab3648bdb845",
   "metadata": {},
   "outputs": [
    {
     "data": {
      "text/plain": [
       "'Time series analysis is used for non-stationary data—things that are constantly fluctuating over time or are affected\\n   by time. Industries like finance, retail, and economics frequently use time series analysis because currency and sales\\n   are always changing. A time series is a collection of observations of well-defined data items obtained through repeated\\n   measurements over time. For example, measuring the value of retail sales each month of the year would comprise a time\\n   series.\\n'"
      ]
     },
     "execution_count": 2,
     "metadata": {},
     "output_type": "execute_result"
    }
   ],
   "source": [
    "# Q1\n",
    "'''Time series analysis is used for non-stationary data—things that are constantly fluctuating over time or are affected\n",
    "   by time. Industries like finance, retail, and economics frequently use time series analysis because currency and sales\n",
    "   are always changing. A time series is a collection of observations of well-defined data items obtained through repeated\n",
    "   measurements over time. For example, measuring the value of retail sales each month of the year would comprise a time\n",
    "   series.\n",
    "'''"
   ]
  },
  {
   "cell_type": "code",
   "execution_count": 3,
   "id": "4b153503-e7c1-476d-a0a1-51063ca1b6fc",
   "metadata": {},
   "outputs": [
    {
     "data": {
      "text/plain": [
       "'An observed time series can be decomposed into three components: the trend (long term direction), the seasonal\\n   (systematic, calendar related movements) and the irregular (unsystematic, short term fluctuations). \\n    Time series can be classified into two different types: stock and flow.\\n   Components of Time Series\\n  Level: The base value for the series if it were a straight line.\\n  Trend: The linear increasing or decreasing behavior of the series over time.\\n  Seasonality: The repeating patterns or cycles of behavior over time.\\n  Noise: The variability in the observations that cannot be explained by the model.\\n   Many methods that recognize patterns in time series do so by first transforming the time series to a more common type\\n   of data. Then a classical machine learning algorithm is used to detect and classify the pattern. Visual pattern \\n   recognition achieves this by first transforming the data into a picture.\\n'"
      ]
     },
     "execution_count": 3,
     "metadata": {},
     "output_type": "execute_result"
    }
   ],
   "source": [
    "# Q2\n",
    "'''An observed time series can be decomposed into three components: the trend (long term direction), the seasonal\n",
    "   (systematic, calendar related movements) and the irregular (unsystematic, short term fluctuations). \n",
    "    Time series can be classified into two different types: stock and flow.\n",
    "   Components of Time Series\n",
    "  Level: The base value for the series if it were a straight line.\n",
    "  Trend: The linear increasing or decreasing behavior of the series over time.\n",
    "  Seasonality: The repeating patterns or cycles of behavior over time.\n",
    "  Noise: The variability in the observations that cannot be explained by the model.\n",
    "   Many methods that recognize patterns in time series do so by first transforming the time series to a more common type\n",
    "   of data. Then a classical machine learning algorithm is used to detect and classify the pattern. Visual pattern \n",
    "   recognition achieves this by first transforming the data into a picture.\n",
    "'''"
   ]
  },
  {
   "cell_type": "code",
   "execution_count": 4,
   "id": "341c4331-7c3f-41d2-b921-aebf7f5925ec",
   "metadata": {},
   "outputs": [
    {
     "data": {
      "text/plain": [
       "'Fourier Transform can help remove the noise by converting the time series data into the frequency domain, and from \\n   there, we can filter out the noisy frequencies. Then, we can apply the inverse Fourier transform to obtain the\\n   filtered time series.\\n   In summary, we have done a few things to convert our data into a time series object:\\n1. converted the Month column from strings to datetime;\\n2. set the transformed datetime column as the index;\\n3. extracted year, month and weekday from the index and stored in new columns.\\n'"
      ]
     },
     "execution_count": 4,
     "metadata": {},
     "output_type": "execute_result"
    }
   ],
   "source": [
    "# Q3\n",
    "'''Fourier Transform can help remove the noise by converting the time series data into the frequency domain, and from \n",
    "   there, we can filter out the noisy frequencies. Then, we can apply the inverse Fourier transform to obtain the\n",
    "   filtered time series.\n",
    "   In summary, we have done a few things to convert our data into a time series object:\n",
    "1. converted the Month column from strings to datetime;\n",
    "2. set the transformed datetime column as the index;\n",
    "3. extracted year, month and weekday from the index and stored in new columns.\n",
    "'''"
   ]
  },
  {
   "cell_type": "code",
   "execution_count": 5,
   "id": "e5846f0f-dcd2-4ec3-919a-a640c3884b54",
   "metadata": {},
   "outputs": [
    {
     "data": {
      "text/plain": [
       "'Time series analysis helps in analyzing the past, which comes in handy to forecast the future. The method is \\n   extensively employed in a financial and business forecast based on the historical pattern of data points collected \\n   over time and comparing it with the current trends.\\n   Time series forecasting occurs when you make scientific predictions based on historical time stamped data. It involves\\n   building models through historical analysis and using them to make observations and drive future strategic \\n   decision-making.\\n'"
      ]
     },
     "execution_count": 5,
     "metadata": {},
     "output_type": "execute_result"
    }
   ],
   "source": [
    "# Q4\n",
    "'''Time series analysis helps in analyzing the past, which comes in handy to forecast the future. The method is \n",
    "   extensively employed in a financial and business forecast based on the historical pattern of data points collected \n",
    "   over time and comparing it with the current trends.\n",
    "   Time series forecasting occurs when you make scientific predictions based on historical time stamped data. It involves\n",
    "   building models through historical analysis and using them to make observations and drive future strategic \n",
    "   decision-making.\n",
    "'''"
   ]
  },
  {
   "cell_type": "code",
   "execution_count": 6,
   "id": "1b54e5d8-8444-450a-ba8f-06bb2884ca61",
   "metadata": {},
   "outputs": [
    {
     "data": {
      "text/plain": [
       "'An autoregressive integrated moving average, or ARIMA, is a statistical analysis model that uses time series data to\\n   either better understand the data set or to predict future trends. A statistical model is autoregressive if it\\n   predicts future values based on past values.\\n   ARIMA models use differencing to convert a non-stationary time series into a stationary one, and then predict future \\n   values from historical data. These models use “auto” correlations and moving averages over residual errors in the data\\n   to forecast future values.\\n'"
      ]
     },
     "execution_count": 6,
     "metadata": {},
     "output_type": "execute_result"
    }
   ],
   "source": [
    "# Q5\n",
    "'''An autoregressive integrated moving average, or ARIMA, is a statistical analysis model that uses time series data to\n",
    "   either better understand the data set or to predict future trends. A statistical model is autoregressive if it\n",
    "   predicts future values based on past values.\n",
    "   ARIMA models use differencing to convert a non-stationary time series into a stationary one, and then predict future \n",
    "   values from historical data. These models use “auto” correlations and moving averages over residual errors in the data\n",
    "   to forecast future values.\n",
    "'''"
   ]
  },
  {
   "cell_type": "code",
   "execution_count": 7,
   "id": "fbf38a61-4e0f-43d5-bc2f-f7b91f2cc925",
   "metadata": {},
   "outputs": [
    {
     "data": {
      "text/plain": [
       "'The basic guideline for interpreting the ACF and PACF plots are as following:\\n1. Look for tail off pattern in either ACF or PACF.\\n2. If tail off at ACF → AR model → Cut off at PACF will provide order p for AR(p).\\n3. If tail off at PACF → MA model → Cut off at ACF will provide order q for MA(q).\\n   An AR signature corresponds to a PACF plot displaying a sharp cut-off and a more slowly decaying ACF; An MA signature \\n   corresponds to an ACF plot displaying a sharp cut-off and a PACF plot that decays more slowly.\\n'"
      ]
     },
     "execution_count": 7,
     "metadata": {},
     "output_type": "execute_result"
    }
   ],
   "source": [
    "# Q6\n",
    "'''The basic guideline for interpreting the ACF and PACF plots are as following:\n",
    "1. Look for tail off pattern in either ACF or PACF.\n",
    "2. If tail off at ACF → AR model → Cut off at PACF will provide order p for AR(p).\n",
    "3. If tail off at PACF → MA model → Cut off at ACF will provide order q for MA(q).\n",
    "   An AR signature corresponds to a PACF plot displaying a sharp cut-off and a more slowly decaying ACF; An MA signature \n",
    "   corresponds to an ACF plot displaying a sharp cut-off and a PACF plot that decays more slowly.\n",
    "'''"
   ]
  },
  {
   "cell_type": "code",
   "execution_count": 8,
   "id": "ddc69aa8-59c8-4239-a19d-034d6183f865",
   "metadata": {},
   "outputs": [
    {
     "data": {
      "text/plain": [
       "'The autoregressive-moving average (ARMA) class of models relies on the assumption that the underlying process is \\n   weakly stationary, which restricts the mean and variance to be constant and requires the autocovariances to depend \\n   only on the time lag.\\n   We can evaluate an ARIMA model by preparing it on a training dataset and evaluating predictions on a test dataset.\\n   Walk the time steps in the test dataset.\\n   Train an ARIMA model.\\n   Make a one-step prediction.\\n   Store prediction; get and store actual observation.\\n'"
      ]
     },
     "execution_count": 8,
     "metadata": {},
     "output_type": "execute_result"
    }
   ],
   "source": [
    "# Q7\n",
    "'''The autoregressive-moving average (ARMA) class of models relies on the assumption that the underlying process is \n",
    "   weakly stationary, which restricts the mean and variance to be constant and requires the autocovariances to depend \n",
    "   only on the time lag.\n",
    "   We can evaluate an ARIMA model by preparing it on a training dataset and evaluating predictions on a test dataset.\n",
    "   Walk the time steps in the test dataset.\n",
    "   Train an ARIMA model.\n",
    "   Make a one-step prediction.\n",
    "   Store prediction; get and store actual observation.\n",
    "'''"
   ]
  },
  {
   "cell_type": "code",
   "execution_count": 9,
   "id": "06410613-e916-47a4-92ab-ce15fe1b8690",
   "metadata": {},
   "outputs": [
    {
     "data": {
      "text/plain": [
       "'Historical forecasting model:\\n   Historical forecasting uses historical data to make predictions about future sales.\\n   There are different methods and approaches to forecasting in sales. The main models are trend analysis, regression \\n   analysis, and causal analysis. These are different methods that you should review for their fit with your specific \\n   circumstances.\\n'"
      ]
     },
     "execution_count": 9,
     "metadata": {},
     "output_type": "execute_result"
    }
   ],
   "source": [
    "# Q8\n",
    "'''Historical forecasting model:\n",
    "   Historical forecasting uses historical data to make predictions about future sales.\n",
    "   There are different methods and approaches to forecasting in sales. The main models are trend analysis, regression \n",
    "   analysis, and causal analysis. These are different methods that you should review for their fit with your specific \n",
    "   circumstances.\n",
    "'''"
   ]
  },
  {
   "cell_type": "code",
   "execution_count": 10,
   "id": "0e220036-9665-49e2-930c-93c6fe9ac23e",
   "metadata": {},
   "outputs": [
    {
     "data": {
      "text/plain": [
       "'It can suffer from generalization from a single study where more data points and models were warranted. Human error \\n   could misidentify the correct data model, which can have a snowballing effect on the output. It could also be\\n   difficult to obtain the appropriate data points.\\n   Time series analysis also suffers from a number of weaknesses, including problems with generalization from a single \\n   study, difficulty in obtaining appropriate measures, and problems with accurately identifying the correct model to\\n   represent the data.\\n'"
      ]
     },
     "execution_count": 10,
     "metadata": {},
     "output_type": "execute_result"
    }
   ],
   "source": [
    "# Q9\n",
    "'''It can suffer from generalization from a single study where more data points and models were warranted. Human error \n",
    "   could misidentify the correct data model, which can have a snowballing effect on the output. It could also be\n",
    "   difficult to obtain the appropriate data points.\n",
    "   Time series analysis also suffers from a number of weaknesses, including problems with generalization from a single \n",
    "   study, difficulty in obtaining appropriate measures, and problems with accurately identifying the correct model to\n",
    "   represent the data.\n",
    "'''"
   ]
  },
  {
   "cell_type": "code",
   "execution_count": 11,
   "id": "29cc0e70-5a3e-4620-87ed-faacda38dfb4",
   "metadata": {},
   "outputs": [
    {
     "data": {
      "text/plain": [
       "'A stationary time series has statistical properties or moments (e.g., mean and variance) that do not vary in time. \\n   Stationarity, then, is the status of a stationary time series. Conversely, nonstationarity is the status of a time\\n   series whose statistical properties are changing through time.\\n   A stationary time series has a constant variance and it always returns to the long-run mean. A time series whose \\n   statistical properties change over time is called a non-stationary time series. Thus a time series with a trend or\\n   seasonality is non-stationary in nature.\\n'"
      ]
     },
     "execution_count": 11,
     "metadata": {},
     "output_type": "execute_result"
    }
   ],
   "source": [
    "# Q10\n",
    "'''A stationary time series has statistical properties or moments (e.g., mean and variance) that do not vary in time. \n",
    "   Stationarity, then, is the status of a stationary time series. Conversely, nonstationarity is the status of a time\n",
    "   series whose statistical properties are changing through time.\n",
    "   A stationary time series has a constant variance and it always returns to the long-run mean. A time series whose \n",
    "   statistical properties change over time is called a non-stationary time series. Thus a time series with a trend or\n",
    "   seasonality is non-stationary in nature.\n",
    "'''"
   ]
  },
  {
   "cell_type": "code",
   "execution_count": null,
   "id": "e0f01379-0a57-465b-a31d-8594923cf377",
   "metadata": {},
   "outputs": [],
   "source": []
  }
 ],
 "metadata": {
  "kernelspec": {
   "display_name": "Python 3 (ipykernel)",
   "language": "python",
   "name": "python3"
  },
  "language_info": {
   "codemirror_mode": {
    "name": "ipython",
    "version": 3
   },
   "file_extension": ".py",
   "mimetype": "text/x-python",
   "name": "python",
   "nbconvert_exporter": "python",
   "pygments_lexer": "ipython3",
   "version": "3.10.8"
  }
 },
 "nbformat": 4,
 "nbformat_minor": 5
}
